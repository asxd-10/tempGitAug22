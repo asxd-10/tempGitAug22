{
 "cells": [
  {
   "cell_type": "code",
   "execution_count": 1,
   "metadata": {},
   "outputs": [],
   "source": [
    "import pandas as pd\n",
    "import numpy as np\n",
    "import matplotlib.pyplot as plt\n",
    "import seaborn as sns"
   ]
  },
  {
   "cell_type": "code",
   "execution_count": 11,
   "metadata": {},
   "outputs": [
    {
     "data": {
      "text/html": [
       "<div>\n",
       "<style scoped>\n",
       "    .dataframe tbody tr th:only-of-type {\n",
       "        vertical-align: middle;\n",
       "    }\n",
       "\n",
       "    .dataframe tbody tr th {\n",
       "        vertical-align: top;\n",
       "    }\n",
       "\n",
       "    .dataframe thead th {\n",
       "        text-align: right;\n",
       "    }\n",
       "</style>\n",
       "<table border=\"1\" class=\"dataframe\">\n",
       "  <thead>\n",
       "    <tr style=\"text-align: right;\">\n",
       "      <th></th>\n",
       "      <th>Price</th>\n",
       "      <th>Open</th>\n",
       "      <th>High</th>\n",
       "      <th>Low</th>\n",
       "      <th>Change %</th>\n",
       "    </tr>\n",
       "    <tr>\n",
       "      <th>Date</th>\n",
       "      <th></th>\n",
       "      <th></th>\n",
       "      <th></th>\n",
       "      <th></th>\n",
       "      <th></th>\n",
       "    </tr>\n",
       "  </thead>\n",
       "  <tbody>\n",
       "    <tr>\n",
       "      <th>2017-12-29</th>\n",
       "      <td>2,673.61</td>\n",
       "      <td>2,689.15</td>\n",
       "      <td>2,692.12</td>\n",
       "      <td>2,673.61</td>\n",
       "      <td>-0.52%</td>\n",
       "    </tr>\n",
       "    <tr>\n",
       "      <th>2017-12-28</th>\n",
       "      <td>2,687.54</td>\n",
       "      <td>2,686.10</td>\n",
       "      <td>2,687.66</td>\n",
       "      <td>2,682.69</td>\n",
       "      <td>0.18%</td>\n",
       "    </tr>\n",
       "    <tr>\n",
       "      <th>2017-12-27</th>\n",
       "      <td>2,682.62</td>\n",
       "      <td>2,682.10</td>\n",
       "      <td>2,685.64</td>\n",
       "      <td>2,678.91</td>\n",
       "      <td>0.08%</td>\n",
       "    </tr>\n",
       "    <tr>\n",
       "      <th>2017-12-26</th>\n",
       "      <td>2,680.50</td>\n",
       "      <td>2,679.09</td>\n",
       "      <td>2,682.74</td>\n",
       "      <td>2,677.96</td>\n",
       "      <td>-0.11%</td>\n",
       "    </tr>\n",
       "    <tr>\n",
       "      <th>2017-12-22</th>\n",
       "      <td>2,683.34</td>\n",
       "      <td>2,684.22</td>\n",
       "      <td>2,685.35</td>\n",
       "      <td>2,678.13</td>\n",
       "      <td>-0.05%</td>\n",
       "    </tr>\n",
       "  </tbody>\n",
       "</table>\n",
       "</div>"
      ],
      "text/plain": [
       "               Price      Open      High       Low Change %\n",
       "Date                                                       \n",
       "2017-12-29  2,673.61  2,689.15  2,692.12  2,673.61   -0.52%\n",
       "2017-12-28  2,687.54  2,686.10  2,687.66  2,682.69    0.18%\n",
       "2017-12-27  2,682.62  2,682.10  2,685.64  2,678.91    0.08%\n",
       "2017-12-26  2,680.50  2,679.09  2,682.74  2,677.96   -0.11%\n",
       "2017-12-22  2,683.34  2,684.22  2,685.35  2,678.13   -0.05%"
      ]
     },
     "execution_count": 11,
     "metadata": {},
     "output_type": "execute_result"
    }
   ],
   "source": [
    "df = pd.read_csv('https://s3.eu-west-1.amazonaws.com/neueda.conygre.com/pydata/SPX.csv',\n",
    "                     index_col='Date', parse_dates=True)\n",
    "df.head()"
   ]
  },
  {
   "cell_type": "code",
   "execution_count": 12,
   "metadata": {
    "scrolled": true
   },
   "outputs": [
    {
     "name": "stdout",
     "output_type": "stream",
     "text": [
      "<class 'pandas.core.frame.DataFrame'>\n",
      "DatetimeIndex: 3017 entries, 2017-12-29 to 2006-01-04\n",
      "Data columns (total 5 columns):\n",
      " #   Column    Non-Null Count  Dtype \n",
      "---  ------    --------------  ----- \n",
      " 0   Price     3017 non-null   object\n",
      " 1   Open      3017 non-null   object\n",
      " 2   High      3017 non-null   object\n",
      " 3   Low       3017 non-null   object\n",
      " 4   Change %  3017 non-null   object\n",
      "dtypes: object(5)\n",
      "memory usage: 141.4+ KB\n"
     ]
    }
   ],
   "source": [
    "df.info()"
   ]
  },
  {
   "cell_type": "code",
   "execution_count": 13,
   "metadata": {},
   "outputs": [
    {
     "data": {
      "text/html": [
       "<div>\n",
       "<style scoped>\n",
       "    .dataframe tbody tr th:only-of-type {\n",
       "        vertical-align: middle;\n",
       "    }\n",
       "\n",
       "    .dataframe tbody tr th {\n",
       "        vertical-align: top;\n",
       "    }\n",
       "\n",
       "    .dataframe thead th {\n",
       "        text-align: right;\n",
       "    }\n",
       "</style>\n",
       "<table border=\"1\" class=\"dataframe\">\n",
       "  <thead>\n",
       "    <tr style=\"text-align: right;\">\n",
       "      <th></th>\n",
       "      <th>Price</th>\n",
       "      <th>Open</th>\n",
       "      <th>High</th>\n",
       "      <th>Low</th>\n",
       "      <th>Change %</th>\n",
       "    </tr>\n",
       "  </thead>\n",
       "  <tbody>\n",
       "    <tr>\n",
       "      <th>count</th>\n",
       "      <td>3017</td>\n",
       "      <td>3017</td>\n",
       "      <td>3017</td>\n",
       "      <td>3017</td>\n",
       "      <td>3017</td>\n",
       "    </tr>\n",
       "    <tr>\n",
       "      <th>unique</th>\n",
       "      <td>2977</td>\n",
       "      <td>2980</td>\n",
       "      <td>2973</td>\n",
       "      <td>2985</td>\n",
       "      <td>554</td>\n",
       "    </tr>\n",
       "    <tr>\n",
       "      <th>top</th>\n",
       "      <td>1,271.50</td>\n",
       "      <td>1,270.84</td>\n",
       "      <td>1,413.09</td>\n",
       "      <td>1,274.86</td>\n",
       "      <td>0.08%</td>\n",
       "    </tr>\n",
       "    <tr>\n",
       "      <th>freq</th>\n",
       "      <td>2</td>\n",
       "      <td>2</td>\n",
       "      <td>2</td>\n",
       "      <td>3</td>\n",
       "      <td>29</td>\n",
       "    </tr>\n",
       "  </tbody>\n",
       "</table>\n",
       "</div>"
      ],
      "text/plain": [
       "           Price      Open      High       Low Change %\n",
       "count       3017      3017      3017      3017     3017\n",
       "unique      2977      2980      2973      2985      554\n",
       "top     1,271.50  1,270.84  1,413.09  1,274.86    0.08%\n",
       "freq           2         2         2         3       29"
      ]
     },
     "execution_count": 13,
     "metadata": {},
     "output_type": "execute_result"
    }
   ],
   "source": [
    "df.describe()"
   ]
  },
  {
   "cell_type": "code",
   "execution_count": 14,
   "metadata": {},
   "outputs": [],
   "source": [
    "df['Price'] = pd.to_numeric(df['Price'].str.replace(',',''))"
   ]
  },
  {
   "cell_type": "code",
   "execution_count": 15,
   "metadata": {},
   "outputs": [],
   "source": [
    "df['Change %'] = pd.to_numeric(df['Change %'].str.replace('%',''))"
   ]
  },
  {
   "cell_type": "code",
   "execution_count": 16,
   "metadata": {},
   "outputs": [],
   "source": [
    "df['Open'] = pd.to_numeric(df['Open'].str.replace(',',''))\n",
    "df['High'] = pd.to_numeric(df['High'].str.replace(',',''))\n",
    "df['Low'] = pd.to_numeric(df['Low'].str.replace(',',''))"
   ]
  },
  {
   "cell_type": "code",
   "execution_count": 17,
   "metadata": {},
   "outputs": [
    {
     "name": "stdout",
     "output_type": "stream",
     "text": [
      "<class 'pandas.core.frame.DataFrame'>\n",
      "DatetimeIndex: 3017 entries, 2017-12-29 to 2006-01-04\n",
      "Data columns (total 5 columns):\n",
      " #   Column    Non-Null Count  Dtype  \n",
      "---  ------    --------------  -----  \n",
      " 0   Price     3017 non-null   float64\n",
      " 1   Open      3017 non-null   float64\n",
      " 2   High      3017 non-null   float64\n",
      " 3   Low       3017 non-null   float64\n",
      " 4   Change %  3017 non-null   float64\n",
      "dtypes: float64(5)\n",
      "memory usage: 141.4 KB\n"
     ]
    }
   ],
   "source": [
    "df.info()"
   ]
  },
  {
   "cell_type": "code",
   "execution_count": 18,
   "metadata": {},
   "outputs": [
    {
     "data": {
      "text/html": [
       "<div>\n",
       "<style scoped>\n",
       "    .dataframe tbody tr th:only-of-type {\n",
       "        vertical-align: middle;\n",
       "    }\n",
       "\n",
       "    .dataframe tbody tr th {\n",
       "        vertical-align: top;\n",
       "    }\n",
       "\n",
       "    .dataframe thead th {\n",
       "        text-align: right;\n",
       "    }\n",
       "</style>\n",
       "<table border=\"1\" class=\"dataframe\">\n",
       "  <thead>\n",
       "    <tr style=\"text-align: right;\">\n",
       "      <th></th>\n",
       "      <th>Price</th>\n",
       "      <th>Open</th>\n",
       "      <th>High</th>\n",
       "      <th>Low</th>\n",
       "      <th>Change %</th>\n",
       "    </tr>\n",
       "  </thead>\n",
       "  <tbody>\n",
       "    <tr>\n",
       "      <th>count</th>\n",
       "      <td>3017.000000</td>\n",
       "      <td>3017.000000</td>\n",
       "      <td>3017.000000</td>\n",
       "      <td>3017.000000</td>\n",
       "      <td>3017.000000</td>\n",
       "    </tr>\n",
       "    <tr>\n",
       "      <th>mean</th>\n",
       "      <td>1576.930597</td>\n",
       "      <td>1576.562337</td>\n",
       "      <td>1585.094839</td>\n",
       "      <td>1567.404445</td>\n",
       "      <td>0.032105</td>\n",
       "    </tr>\n",
       "    <tr>\n",
       "      <th>std</th>\n",
       "      <td>450.029412</td>\n",
       "      <td>449.869900</td>\n",
       "      <td>449.078688</td>\n",
       "      <td>450.705886</td>\n",
       "      <td>1.223285</td>\n",
       "    </tr>\n",
       "    <tr>\n",
       "      <th>min</th>\n",
       "      <td>676.530000</td>\n",
       "      <td>679.280000</td>\n",
       "      <td>695.270000</td>\n",
       "      <td>666.790000</td>\n",
       "      <td>-9.030000</td>\n",
       "    </tr>\n",
       "    <tr>\n",
       "      <th>25%</th>\n",
       "      <td>1266.690000</td>\n",
       "      <td>1266.670000</td>\n",
       "      <td>1274.560000</td>\n",
       "      <td>1259.420000</td>\n",
       "      <td>-0.390000</td>\n",
       "    </tr>\n",
       "    <tr>\n",
       "      <th>50%</th>\n",
       "      <td>1428.610000</td>\n",
       "      <td>1428.650000</td>\n",
       "      <td>1437.650000</td>\n",
       "      <td>1422.340000</td>\n",
       "      <td>0.060000</td>\n",
       "    </tr>\n",
       "    <tr>\n",
       "      <th>75%</th>\n",
       "      <td>1986.510000</td>\n",
       "      <td>1985.320000</td>\n",
       "      <td>1993.480000</td>\n",
       "      <td>1975.670000</td>\n",
       "      <td>0.540000</td>\n",
       "    </tr>\n",
       "    <tr>\n",
       "      <th>max</th>\n",
       "      <td>2690.160000</td>\n",
       "      <td>2692.710000</td>\n",
       "      <td>2694.970000</td>\n",
       "      <td>2685.920000</td>\n",
       "      <td>11.580000</td>\n",
       "    </tr>\n",
       "  </tbody>\n",
       "</table>\n",
       "</div>"
      ],
      "text/plain": [
       "             Price         Open         High          Low     Change %\n",
       "count  3017.000000  3017.000000  3017.000000  3017.000000  3017.000000\n",
       "mean   1576.930597  1576.562337  1585.094839  1567.404445     0.032105\n",
       "std     450.029412   449.869900   449.078688   450.705886     1.223285\n",
       "min     676.530000   679.280000   695.270000   666.790000    -9.030000\n",
       "25%    1266.690000  1266.670000  1274.560000  1259.420000    -0.390000\n",
       "50%    1428.610000  1428.650000  1437.650000  1422.340000     0.060000\n",
       "75%    1986.510000  1985.320000  1993.480000  1975.670000     0.540000\n",
       "max    2690.160000  2692.710000  2694.970000  2685.920000    11.580000"
      ]
     },
     "execution_count": 18,
     "metadata": {},
     "output_type": "execute_result"
    }
   ],
   "source": [
    "df.describe()"
   ]
  },
  {
   "cell_type": "code",
   "execution_count": 21,
   "metadata": {},
   "outputs": [],
   "source": [
    "df = df.sort_values(by='Date')"
   ]
  },
  {
   "cell_type": "code",
   "execution_count": 29,
   "metadata": {},
   "outputs": [
    {
     "data": {
      "text/plain": [
       "<AxesSubplot:xlabel='Date'>"
      ]
     },
     "execution_count": 29,
     "metadata": {},
     "output_type": "execute_result"
    },
    {
     "data": {
      "image/png": "[encoded data removed]",
      "text/plain": [
       "<Figure size 432x288 with 1 Axes>"
      ]
     },
     "metadata": {},
     "output_type": "display_data"
    }
   ],
   "source": [
    "sns.set(style='whitegrid')\n",
    "subset = df.query('Date>=\"2015-06-01\" & Date<=\"2016-06-30\"')[['Low','High']]\n",
    "sns.lineplot(data=subset)"
   ]
  },
  {
   "cell_type": "code",
   "execution_count": 32,
   "metadata": {},
   "outputs": [
    {
     "data": {
      "text/plain": [
       "<AxesSubplot:ylabel='Density'>"
      ]
     },
     "execution_count": 32,
     "metadata": {},
     "output_type": "execute_result"
    },
    {
     "data": {
      "image/png": "[encoded data removed]",
      "text/plain": [
       "<Figure size 432x288 with 1 Axes>"
      ]
     },
     "metadata": {},
     "output_type": "display_data"
    }
   ],
   "source": [
    "plt.style.use('bmh')\n",
    "df.query('Date>=\"2016-04-01\" & Date<=\"2018-03-31\"')[['Low','High','Open']].plot.density()"
   ]
  },
  {
   "cell_type": "code",
   "execution_count": 39,
   "metadata": {},
   "outputs": [
    {
     "data": {
      "image/png": "[encoded data removed]",
      "text/plain": [
       "<Figure size 1008x432 with 2 Axes>"
      ]
     },
     "metadata": {},
     "output_type": "display_data"
    }
   ],
   "source": [
    "plt.style.use('fivethirtyeight')\n",
    "\n",
    "fig = plt.figure(figsize=(14, 6))\n",
    "\n",
    "# left, bottom, width, height\n",
    "axes1 = fig.add_axes([0.1, 0.1, 0.8, 0.8])\n",
    "axes2 = fig.add_axes([0.18, 0.6, 0.3, 0.3])\n",
    "\n",
    "x = df.index.date\n",
    "y1 = df['Price']\n",
    "\n",
    "axes1.plot(x, y1, 'g')\n",
    "axes2.plot(df.query('Date>=\"2014-04-01\" & Date<=\"2018-03-31\"')['Price'], 'b')\n",
    "plt.title('2017-2018 Financial Year Summary')\n",
    "plt.xticks(rotation=45)\n",
    "\n",
    "plt.show()"
   ]
  },
  {
   "cell_type": "code",
   "execution_count": 54,
   "metadata": {},
   "outputs": [],
   "source": [
    "df_monthwise = df.groupby(pd.Grouper(freq=\"M\")).mean()"
   ]
  },
  {
   "cell_type": "code",
   "execution_count": 62,
   "metadata": {},
   "outputs": [],
   "source": [
    "df_monthwise = df_monthwise.reset_index()"
   ]
  },
  {
   "cell_type": "code",
   "execution_count": 64,
   "metadata": {},
   "outputs": [],
   "source": [
    "df_monthwise['Date'] = df_monthwise['Date'].dt.to_period(\"M\")"
   ]
  },
  {
   "cell_type": "code",
   "execution_count": 65,
   "metadata": {},
   "outputs": [
    {
     "data": {
      "text/html": [
       "<div>\n",
       "<style scoped>\n",
       "    .dataframe tbody tr th:only-of-type {\n",
       "        vertical-align: middle;\n",
       "    }\n",
       "\n",
       "    .dataframe tbody tr th {\n",
       "        vertical-align: top;\n",
       "    }\n",
       "\n",
       "    .dataframe thead th {\n",
       "        text-align: right;\n",
       "    }\n",
       "</style>\n",
       "<table border=\"1\" class=\"dataframe\">\n",
       "  <thead>\n",
       "    <tr style=\"text-align: right;\">\n",
       "      <th></th>\n",
       "      <th>Date</th>\n",
       "      <th>Price</th>\n",
       "      <th>Open</th>\n",
       "      <th>High</th>\n",
       "      <th>Low</th>\n",
       "      <th>Change %</th>\n",
       "    </tr>\n",
       "  </thead>\n",
       "  <tbody>\n",
       "    <tr>\n",
       "      <th>0</th>\n",
       "      <td>2006-01</td>\n",
       "      <td>1279.250000</td>\n",
       "      <td>1278.653158</td>\n",
       "      <td>1283.589474</td>\n",
       "      <td>1274.167368</td>\n",
       "      <td>0.047895</td>\n",
       "    </tr>\n",
       "    <tr>\n",
       "      <th>1</th>\n",
       "      <td>2006-02</td>\n",
       "      <td>1276.645263</td>\n",
       "      <td>1276.616842</td>\n",
       "      <td>1281.536316</td>\n",
       "      <td>1271.135789</td>\n",
       "      <td>0.002632</td>\n",
       "    </tr>\n",
       "    <tr>\n",
       "      <th>2</th>\n",
       "      <td>2006-03</td>\n",
       "      <td>1293.734783</td>\n",
       "      <td>1293.123913</td>\n",
       "      <td>1298.765217</td>\n",
       "      <td>1288.788696</td>\n",
       "      <td>0.049565</td>\n",
       "    </tr>\n",
       "    <tr>\n",
       "      <th>3</th>\n",
       "      <td>2006-04</td>\n",
       "      <td>1302.165263</td>\n",
       "      <td>1301.777368</td>\n",
       "      <td>1307.992105</td>\n",
       "      <td>1296.158421</td>\n",
       "      <td>0.066316</td>\n",
       "    </tr>\n",
       "    <tr>\n",
       "      <th>4</th>\n",
       "      <td>2006-05</td>\n",
       "      <td>1290.013636</td>\n",
       "      <td>1291.740000</td>\n",
       "      <td>1297.076818</td>\n",
       "      <td>1284.194545</td>\n",
       "      <td>-0.138636</td>\n",
       "    </tr>\n",
       "    <tr>\n",
       "      <th>...</th>\n",
       "      <td>...</td>\n",
       "      <td>...</td>\n",
       "      <td>...</td>\n",
       "      <td>...</td>\n",
       "      <td>...</td>\n",
       "      <td>...</td>\n",
       "    </tr>\n",
       "    <tr>\n",
       "      <th>139</th>\n",
       "      <td>2017-08</td>\n",
       "      <td>2456.223043</td>\n",
       "      <td>2456.750000</td>\n",
       "      <td>2463.660870</td>\n",
       "      <td>2449.480870</td>\n",
       "      <td>0.003043</td>\n",
       "    </tr>\n",
       "    <tr>\n",
       "      <th>140</th>\n",
       "      <td>2017-09</td>\n",
       "      <td>2492.841000</td>\n",
       "      <td>2491.332500</td>\n",
       "      <td>2496.208000</td>\n",
       "      <td>2486.306500</td>\n",
       "      <td>0.096000</td>\n",
       "    </tr>\n",
       "    <tr>\n",
       "      <th>141</th>\n",
       "      <td>2017-10</td>\n",
       "      <td>2556.997273</td>\n",
       "      <td>2555.807273</td>\n",
       "      <td>2560.427727</td>\n",
       "      <td>2551.009091</td>\n",
       "      <td>0.099545</td>\n",
       "    </tr>\n",
       "    <tr>\n",
       "      <th>142</th>\n",
       "      <td>2017-11</td>\n",
       "      <td>2593.605714</td>\n",
       "      <td>2590.306190</td>\n",
       "      <td>2597.430000</td>\n",
       "      <td>2585.022381</td>\n",
       "      <td>0.132381</td>\n",
       "    </tr>\n",
       "    <tr>\n",
       "      <th>143</th>\n",
       "      <td>2017-12</td>\n",
       "      <td>2664.340500</td>\n",
       "      <td>2666.070000</td>\n",
       "      <td>2672.390000</td>\n",
       "      <td>2658.469000</td>\n",
       "      <td>0.049000</td>\n",
       "    </tr>\n",
       "  </tbody>\n",
       "</table>\n",
       "<p>144 rows × 6 columns</p>\n",
       "</div>"
      ],
      "text/plain": [
       "        Date        Price         Open         High          Low  Change %\n",
       "0    2006-01  1279.250000  1278.653158  1283.589474  1274.167368  0.047895\n",
       "1    2006-02  1276.645263  1276.616842  1281.536316  1271.135789  0.002632\n",
       "2    2006-03  1293.734783  1293.123913  1298.765217  1288.788696  0.049565\n",
       "3    2006-04  1302.165263  1301.777368  1307.992105  1296.158421  0.066316\n",
       "4    2006-05  1290.013636  1291.740000  1297.076818  1284.194545 -0.138636\n",
       "..       ...          ...          ...          ...          ...       ...\n",
       "139  2017-08  2456.223043  2456.750000  2463.660870  2449.480870  0.003043\n",
       "140  2017-09  2492.841000  2491.332500  2496.208000  2486.306500  0.096000\n",
       "141  2017-10  2556.997273  2555.807273  2560.427727  2551.009091  0.099545\n",
       "142  2017-11  2593.605714  2590.306190  2597.430000  2585.022381  0.132381\n",
       "143  2017-12  2664.340500  2666.070000  2672.390000  2658.469000  0.049000\n",
       "\n",
       "[144 rows x 6 columns]"
      ]
     },
     "execution_count": 65,
     "metadata": {},
     "output_type": "execute_result"
    }
   ],
   "source": [
    "df_monthwise"
   ]
  },
  {
   "cell_type": "code",
   "execution_count": 66,
   "metadata": {},
   "outputs": [
    {
     "data": {
      "text/html": [
       "<div>\n",
       "<style scoped>\n",
       "    .dataframe tbody tr th:only-of-type {\n",
       "        vertical-align: middle;\n",
       "    }\n",
       "\n",
       "    .dataframe tbody tr th {\n",
       "        vertical-align: top;\n",
       "    }\n",
       "\n",
       "    .dataframe thead th {\n",
       "        text-align: right;\n",
       "    }\n",
       "</style>\n",
       "<table border=\"1\" class=\"dataframe\">\n",
       "  <thead>\n",
       "    <tr style=\"text-align: right;\">\n",
       "      <th></th>\n",
       "      <th>Price</th>\n",
       "      <th>Open</th>\n",
       "      <th>High</th>\n",
       "      <th>Low</th>\n",
       "      <th>Change %</th>\n",
       "    </tr>\n",
       "    <tr>\n",
       "      <th>Date</th>\n",
       "      <th></th>\n",
       "      <th></th>\n",
       "      <th></th>\n",
       "      <th></th>\n",
       "      <th></th>\n",
       "    </tr>\n",
       "  </thead>\n",
       "  <tbody>\n",
       "    <tr>\n",
       "      <th>2006-01</th>\n",
       "      <td>1279.250000</td>\n",
       "      <td>1278.653158</td>\n",
       "      <td>1283.589474</td>\n",
       "      <td>1274.167368</td>\n",
       "      <td>0.047895</td>\n",
       "    </tr>\n",
       "    <tr>\n",
       "      <th>2006-02</th>\n",
       "      <td>1276.645263</td>\n",
       "      <td>1276.616842</td>\n",
       "      <td>1281.536316</td>\n",
       "      <td>1271.135789</td>\n",
       "      <td>0.002632</td>\n",
       "    </tr>\n",
       "    <tr>\n",
       "      <th>2006-03</th>\n",
       "      <td>1293.734783</td>\n",
       "      <td>1293.123913</td>\n",
       "      <td>1298.765217</td>\n",
       "      <td>1288.788696</td>\n",
       "      <td>0.049565</td>\n",
       "    </tr>\n",
       "    <tr>\n",
       "      <th>2006-04</th>\n",
       "      <td>1302.165263</td>\n",
       "      <td>1301.777368</td>\n",
       "      <td>1307.992105</td>\n",
       "      <td>1296.158421</td>\n",
       "      <td>0.066316</td>\n",
       "    </tr>\n",
       "    <tr>\n",
       "      <th>2006-05</th>\n",
       "      <td>1290.013636</td>\n",
       "      <td>1291.740000</td>\n",
       "      <td>1297.076818</td>\n",
       "      <td>1284.194545</td>\n",
       "      <td>-0.138636</td>\n",
       "    </tr>\n",
       "    <tr>\n",
       "      <th>...</th>\n",
       "      <td>...</td>\n",
       "      <td>...</td>\n",
       "      <td>...</td>\n",
       "      <td>...</td>\n",
       "      <td>...</td>\n",
       "    </tr>\n",
       "    <tr>\n",
       "      <th>2017-08</th>\n",
       "      <td>2456.223043</td>\n",
       "      <td>2456.750000</td>\n",
       "      <td>2463.660870</td>\n",
       "      <td>2449.480870</td>\n",
       "      <td>0.003043</td>\n",
       "    </tr>\n",
       "    <tr>\n",
       "      <th>2017-09</th>\n",
       "      <td>2492.841000</td>\n",
       "      <td>2491.332500</td>\n",
       "      <td>2496.208000</td>\n",
       "      <td>2486.306500</td>\n",
       "      <td>0.096000</td>\n",
       "    </tr>\n",
       "    <tr>\n",
       "      <th>2017-10</th>\n",
       "      <td>2556.997273</td>\n",
       "      <td>2555.807273</td>\n",
       "      <td>2560.427727</td>\n",
       "      <td>2551.009091</td>\n",
       "      <td>0.099545</td>\n",
       "    </tr>\n",
       "    <tr>\n",
       "      <th>2017-11</th>\n",
       "      <td>2593.605714</td>\n",
       "      <td>2590.306190</td>\n",
       "      <td>2597.430000</td>\n",
       "      <td>2585.022381</td>\n",
       "      <td>0.132381</td>\n",
       "    </tr>\n",
       "    <tr>\n",
       "      <th>2017-12</th>\n",
       "      <td>2664.340500</td>\n",
       "      <td>2666.070000</td>\n",
       "      <td>2672.390000</td>\n",
       "      <td>2658.469000</td>\n",
       "      <td>0.049000</td>\n",
       "    </tr>\n",
       "  </tbody>\n",
       "</table>\n",
       "<p>144 rows × 5 columns</p>\n",
       "</div>"
      ],
      "text/plain": [
       "               Price         Open         High          Low  Change %\n",
       "Date                                                                 \n",
       "2006-01  1279.250000  1278.653158  1283.589474  1274.167368  0.047895\n",
       "2006-02  1276.645263  1276.616842  1281.536316  1271.135789  0.002632\n",
       "2006-03  1293.734783  1293.123913  1298.765217  1288.788696  0.049565\n",
       "2006-04  1302.165263  1301.777368  1307.992105  1296.158421  0.066316\n",
       "2006-05  1290.013636  1291.740000  1297.076818  1284.194545 -0.138636\n",
       "...              ...          ...          ...          ...       ...\n",
       "2017-08  2456.223043  2456.750000  2463.660870  2449.480870  0.003043\n",
       "2017-09  2492.841000  2491.332500  2496.208000  2486.306500  0.096000\n",
       "2017-10  2556.997273  2555.807273  2560.427727  2551.009091  0.099545\n",
       "2017-11  2593.605714  2590.306190  2597.430000  2585.022381  0.132381\n",
       "2017-12  2664.340500  2666.070000  2672.390000  2658.469000  0.049000\n",
       "\n",
       "[144 rows x 5 columns]"
      ]
     },
     "execution_count": 66,
     "metadata": {},
     "output_type": "execute_result"
    }
   ],
   "source": [
    "df_monthwise.set_index('Date').sort_index()"
   ]
  }
 ],
 "metadata": {
  "kernelspec": {
   "display_name": "Python 3",
   "language": "python",
   "name": "python3"
  },
  "language_info": {
   "codemirror_mode": {
    "name": "ipython",
    "version": 3
   },
   "file_extension": ".py",
   "mimetype": "text/x-python",
   "name": "python",
   "nbconvert_exporter": "python",
   "pygments_lexer": "ipython3",
   "version": "3.8.5"
  }
 },
 "nbformat": 4,
 "nbformat_minor": 4
}
